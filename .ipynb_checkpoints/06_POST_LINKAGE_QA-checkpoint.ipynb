{
 "cells": [
  {
   "cell_type": "markdown",
   "metadata": {},
   "source": [
    "# Clerical Search to estimate false negative rate"
   ]
  },
  {
   "cell_type": "code",
   "execution_count": 29,
   "metadata": {
    "collapsed": true
   },
   "outputs": [],
   "source": [
    "# Packages\n",
    "import pandas as pd\n",
    "import numpy as np\n",
    "import functools\n",
    "import re"
   ]
  },
  {
   "cell_type": "code",
   "execution_count": null,
   "metadata": {
    "collapsed": true
   },
   "outputs": [],
   "source": [
    "# Read in the census & PES data\n",
    "CEN = pd.read_csv('census_cleaned.csv', index_col=False)\n",
    "print(\"Census read in\")\n",
    "PES = pd.read_csv('pes_cleaned.csv', index_col=False)  \n",
    "print(\"PES read in\")"
   ]
  },
  {
   "cell_type": "code",
   "execution_count": null,
   "metadata": {
    "collapsed": true
   },
   "outputs": [],
   "source": [
    "# Sample of unmatched PES records (just a list of PES IDs)\n",
    "unmatched_PES = pd.read_csv('Stage_6_Unmatched_PES_Sample.csv')"
   ]
  },
  {
   "cell_type": "markdown",
   "metadata": {},
   "source": [
    "### 1) Open csv above (Stage_6_Unmatched_PES_Sample) in Excel and keep open whilst matching\n",
    "### 2) Create new column 'MATCH' which will contain a 1 if a match is found in the census, otherwise 0\n",
    "### 3) Create new column 'CENSUS_ID' which will contain the census puid if a match is found, otherwise 0\n",
    "### 4) Take an unmatched PES record from the sample and view all variables of interest"
   ]
  },
  {
   "cell_type": "code",
   "execution_count": 13,
   "metadata": {
    "collapsed": true
   },
   "outputs": [],
   "source": [
    "# Variables of interest when presenting PES / CEN records\n",
    "variables = ['puid', 'hhid', 'EAid', 'DSid', 'names', 'year_birth', 'birth_month', 'sex', 'relationship_hh']\n",
    "pes_variables = [x + '_pes' for x in variables]\n",
    "cen_variables = [x + '_cen' for x in variables]"
   ]
  },
  {
   "cell_type": "code",
   "execution_count": 14,
   "metadata": {},
   "outputs": [
    {
     "data": {
      "text/html": [
       "<div>\n",
       "<style>\n",
       "    .dataframe thead tr:only-child th {\n",
       "        text-align: right;\n",
       "    }\n",
       "\n",
       "    .dataframe thead th {\n",
       "        text-align: left;\n",
       "    }\n",
       "\n",
       "    .dataframe tbody tr th {\n",
       "        vertical-align: top;\n",
       "    }\n",
       "</style>\n",
       "<table border=\"1\" class=\"dataframe\">\n",
       "  <thead>\n",
       "    <tr style=\"text-align: right;\">\n",
       "      <th></th>\n",
       "      <th>variable</th>\n",
       "      <th>value</th>\n",
       "    </tr>\n",
       "  </thead>\n",
       "  <tbody>\n",
       "    <tr>\n",
       "      <th>0</th>\n",
       "      <td>puid_pes</td>\n",
       "      <td>111</td>\n",
       "    </tr>\n",
       "    <tr>\n",
       "      <th>1</th>\n",
       "      <td>hhid_pes</td>\n",
       "      <td>11</td>\n",
       "    </tr>\n",
       "    <tr>\n",
       "      <th>2</th>\n",
       "      <td>EAid_pes</td>\n",
       "      <td>123</td>\n",
       "    </tr>\n",
       "    <tr>\n",
       "      <th>3</th>\n",
       "      <td>DSid_pes</td>\n",
       "      <td>1</td>\n",
       "    </tr>\n",
       "    <tr>\n",
       "      <th>4</th>\n",
       "      <td>names_pes</td>\n",
       "      <td>CHARLIE T</td>\n",
       "    </tr>\n",
       "    <tr>\n",
       "      <th>5</th>\n",
       "      <td>year_birth_pes</td>\n",
       "      <td>1993</td>\n",
       "    </tr>\n",
       "    <tr>\n",
       "      <th>6</th>\n",
       "      <td>birth_month_pes</td>\n",
       "      <td>7</td>\n",
       "    </tr>\n",
       "    <tr>\n",
       "      <th>7</th>\n",
       "      <td>sex_pes</td>\n",
       "      <td>1</td>\n",
       "    </tr>\n",
       "    <tr>\n",
       "      <th>8</th>\n",
       "      <td>relationship_hh_pes</td>\n",
       "      <td>1</td>\n",
       "    </tr>\n",
       "  </tbody>\n",
       "</table>\n",
       "</div>"
      ],
      "text/plain": [
       "              variable       value\n",
       "0             puid_pes         111\n",
       "1             hhid_pes          11\n",
       "2             EAid_pes         123\n",
       "3             DSid_pes           1\n",
       "4            names_pes  CHARLIE T \n",
       "5       year_birth_pes        1993\n",
       "6      birth_month_pes           7\n",
       "7              sex_pes           1\n",
       "8  relationship_hh_pes           1"
      ]
     },
     "execution_count": 14,
     "metadata": {},
     "output_type": "execute_result"
    }
   ],
   "source": [
    "# View unmatched PES record - this is the record we want to try and find in the census\n",
    "target_record = PES[PES.puid_pes == '111'][pes_variables]\n",
    "pd.melt(target_record)"
   ]
  },
  {
   "cell_type": "markdown",
   "metadata": {},
   "source": [
    "### 5) View all other records from the PES household\n"
   ]
  },
  {
   "cell_type": "code",
   "execution_count": 31,
   "metadata": {},
   "outputs": [
    {
     "data": {
      "text/html": [
       "<div>\n",
       "<style>\n",
       "    .dataframe thead tr:only-child th {\n",
       "        text-align: right;\n",
       "    }\n",
       "\n",
       "    .dataframe thead th {\n",
       "        text-align: left;\n",
       "    }\n",
       "\n",
       "    .dataframe tbody tr th {\n",
       "        vertical-align: top;\n",
       "    }\n",
       "</style>\n",
       "<table border=\"1\" class=\"dataframe\">\n",
       "  <thead>\n",
       "    <tr style=\"text-align: right;\">\n",
       "      <th></th>\n",
       "      <th>puid_pes</th>\n",
       "      <th>hhid_pes</th>\n",
       "      <th>EAid_pes</th>\n",
       "      <th>DSid_pes</th>\n",
       "      <th>names_pes</th>\n",
       "      <th>year_birth_pes</th>\n",
       "      <th>birth_month_pes</th>\n",
       "      <th>sex_pes</th>\n",
       "      <th>relationship_hh_pes</th>\n",
       "    </tr>\n",
       "  </thead>\n",
       "  <tbody>\n",
       "    <tr>\n",
       "      <th>0</th>\n",
       "      <td>111</td>\n",
       "      <td>11</td>\n",
       "      <td>123</td>\n",
       "      <td>1</td>\n",
       "      <td>CHARLIE T</td>\n",
       "      <td>1993</td>\n",
       "      <td>7</td>\n",
       "      <td>1</td>\n",
       "      <td>1</td>\n",
       "    </tr>\n",
       "    <tr>\n",
       "      <th>1</th>\n",
       "      <td>222</td>\n",
       "      <td>11</td>\n",
       "      <td>456</td>\n",
       "      <td>4</td>\n",
       "      <td>STEVE X</td>\n",
       "      <td>1999</td>\n",
       "      <td>8</td>\n",
       "      <td>2</td>\n",
       "      <td>2</td>\n",
       "    </tr>\n",
       "    <tr>\n",
       "      <th>2</th>\n",
       "      <td>333</td>\n",
       "      <td>11</td>\n",
       "      <td>789</td>\n",
       "      <td>7</td>\n",
       "      <td>JOHN P</td>\n",
       "      <td>1992</td>\n",
       "      <td>1</td>\n",
       "      <td>2</td>\n",
       "      <td>2</td>\n",
       "    </tr>\n",
       "  </tbody>\n",
       "</table>\n",
       "</div>"
      ],
      "text/plain": [
       "  puid_pes hhid_pes EAid_pes DSid_pes   names_pes  year_birth_pes  \\\n",
       "0      111       11      123        1  CHARLIE T             1993   \n",
       "1      222       11      456        4     STEVE X            1999   \n",
       "2      333       11      789        7      JOHN P            1992   \n",
       "\n",
       "   birth_month_pes sex_pes relationship_hh_pes  \n",
       "0                7       1                   1  \n",
       "1                8       2                   2  \n",
       "2                1       2                   2  "
      ]
     },
     "execution_count": 31,
     "metadata": {},
     "output_type": "execute_result"
    }
   ],
   "source": [
    "# View all records from the household (matched or unmatched)\n",
    "target_household_ID = target_record['hhid_pes'][0]\n",
    "target_household = PES[PES.hhid_pes == target_household_ID][pes_variables]\n",
    "target_household"
   ]
  },
  {
   "cell_type": "markdown",
   "metadata": {},
   "source": [
    "### 6) Search for a match in the full census dataset using a selection of different filters"
   ]
  },
  {
   "cell_type": "code",
   "execution_count": 32,
   "metadata": {
    "collapsed": true
   },
   "outputs": [],
   "source": [
    "# Function to combine and apply multiple filters to the census dataset\n",
    "def conjunction(*conditions):\n",
    "    return functools.reduce(np.logical_and, conditions)"
   ]
  },
  {
   "cell_type": "markdown",
   "metadata": {},
   "source": [
    "### Create a list of conditions to search the Census dataset with here"
   ]
  },
  {
   "cell_type": "code",
   "execution_count": 34,
   "metadata": {
    "collapsed": true
   },
   "outputs": [],
   "source": [
    "# Comment out filters not used and add in any extras if you find they work better at finding matches\n",
    "c1 = CEN.first_name_cen == 'CHARLIE'\n",
    "c2 = CEN.last_name_cen == 'T'\n",
    "c3 = CEN.year_birth_cen.between(1990, 1995)\n",
    "c4 = CEN.birth_month_cen.between(5, 12)\n",
    "c5 = CEN.sex_cen == '1'\n",
    "c6 = CEN.EAid_cen == \"123\""
   ]
  },
  {
   "cell_type": "code",
   "execution_count": 35,
   "metadata": {},
   "outputs": [
    {
     "name": "stdout",
     "output_type": "stream",
     "text": [
      "Search has produced 1 potential census match/matches\n"
     ]
    }
   ],
   "source": [
    "# Apply chosen filters to census dataset\n",
    "conditions_list = [c1, c2, c3, c4, c5, c6]\n",
    "census_candidates = CEN[conjunction(*conditions_list)][cen_variables]\n",
    "print(\"Search has produced {} potential census match/matches\".format(len(census_candidates)))"
   ]
  },
  {
   "cell_type": "code",
   "execution_count": 36,
   "metadata": {},
   "outputs": [
    {
     "data": {
      "text/html": [
       "<div>\n",
       "<style>\n",
       "    .dataframe thead tr:only-child th {\n",
       "        text-align: right;\n",
       "    }\n",
       "\n",
       "    .dataframe thead th {\n",
       "        text-align: left;\n",
       "    }\n",
       "\n",
       "    .dataframe tbody tr th {\n",
       "        vertical-align: top;\n",
       "    }\n",
       "</style>\n",
       "<table border=\"1\" class=\"dataframe\">\n",
       "  <thead>\n",
       "    <tr style=\"text-align: right;\">\n",
       "      <th></th>\n",
       "      <th>puid_cen</th>\n",
       "      <th>hhid_cen</th>\n",
       "      <th>EAid_cen</th>\n",
       "      <th>DSid_cen</th>\n",
       "      <th>names_cen</th>\n",
       "      <th>year_birth_cen</th>\n",
       "      <th>birth_month_cen</th>\n",
       "      <th>sex_cen</th>\n",
       "      <th>relationship_hh_cen</th>\n",
       "    </tr>\n",
       "  </thead>\n",
       "  <tbody>\n",
       "    <tr>\n",
       "      <th>0</th>\n",
       "      <td>111</td>\n",
       "      <td>11</td>\n",
       "      <td>123</td>\n",
       "      <td>1</td>\n",
       "      <td>CHARLIE T</td>\n",
       "      <td>1993</td>\n",
       "      <td>7</td>\n",
       "      <td>1</td>\n",
       "      <td>1</td>\n",
       "    </tr>\n",
       "  </tbody>\n",
       "</table>\n",
       "</div>"
      ],
      "text/plain": [
       "  puid_cen hhid_cen EAid_cen DSid_cen   names_cen  year_birth_cen  \\\n",
       "0      111       11      123        1  CHARLIE T             1993   \n",
       "\n",
       "   birth_month_cen sex_cen relationship_hh_cen  \n",
       "0                7       1                   1  "
      ]
     },
     "execution_count": 36,
     "metadata": {},
     "output_type": "execute_result"
    }
   ],
   "source": [
    "# View candidates\n",
    "census_candidates"
   ]
  },
  {
   "cell_type": "markdown",
   "metadata": {},
   "source": [
    "### 7) If you think you may have found a census record that matches to the PES record, you may want to view the whole census household"
   ]
  },
  {
   "cell_type": "code",
   "execution_count": 37,
   "metadata": {},
   "outputs": [
    {
     "data": {
      "text/html": [
       "<div>\n",
       "<style>\n",
       "    .dataframe thead tr:only-child th {\n",
       "        text-align: right;\n",
       "    }\n",
       "\n",
       "    .dataframe thead th {\n",
       "        text-align: left;\n",
       "    }\n",
       "\n",
       "    .dataframe tbody tr th {\n",
       "        vertical-align: top;\n",
       "    }\n",
       "</style>\n",
       "<table border=\"1\" class=\"dataframe\">\n",
       "  <thead>\n",
       "    <tr style=\"text-align: right;\">\n",
       "      <th></th>\n",
       "      <th>puid_cen</th>\n",
       "      <th>hhid_cen</th>\n",
       "      <th>EAid_cen</th>\n",
       "      <th>DSid_cen</th>\n",
       "      <th>names_cen</th>\n",
       "      <th>year_birth_cen</th>\n",
       "      <th>birth_month_cen</th>\n",
       "      <th>sex_cen</th>\n",
       "      <th>relationship_hh_cen</th>\n",
       "    </tr>\n",
       "  </thead>\n",
       "  <tbody>\n",
       "    <tr>\n",
       "      <th>0</th>\n",
       "      <td>111</td>\n",
       "      <td>11</td>\n",
       "      <td>123</td>\n",
       "      <td>1</td>\n",
       "      <td>CHARLIE T</td>\n",
       "      <td>1993</td>\n",
       "      <td>7</td>\n",
       "      <td>1</td>\n",
       "      <td>1</td>\n",
       "    </tr>\n",
       "    <tr>\n",
       "      <th>1</th>\n",
       "      <td>222</td>\n",
       "      <td>11</td>\n",
       "      <td>456</td>\n",
       "      <td>4</td>\n",
       "      <td>STEVE X</td>\n",
       "      <td>1999</td>\n",
       "      <td>8</td>\n",
       "      <td>2</td>\n",
       "      <td>2</td>\n",
       "    </tr>\n",
       "    <tr>\n",
       "      <th>2</th>\n",
       "      <td>333</td>\n",
       "      <td>11</td>\n",
       "      <td>789</td>\n",
       "      <td>7</td>\n",
       "      <td>JOHN P</td>\n",
       "      <td>1992</td>\n",
       "      <td>1</td>\n",
       "      <td>2</td>\n",
       "      <td>2</td>\n",
       "    </tr>\n",
       "  </tbody>\n",
       "</table>\n",
       "</div>"
      ],
      "text/plain": [
       "  puid_cen hhid_cen EAid_cen DSid_cen   names_cen  year_birth_cen  \\\n",
       "0      111       11      123        1  CHARLIE T             1993   \n",
       "1      222       11      456        4     STEVE X            1999   \n",
       "2      333       11      789        7      JOHN P            1992   \n",
       "\n",
       "   birth_month_cen sex_cen relationship_hh_cen  \n",
       "0                7       1                   1  \n",
       "1                8       2                   2  \n",
       "2                1       2                   2  "
      ]
     },
     "execution_count": 37,
     "metadata": {},
     "output_type": "execute_result"
    }
   ],
   "source": [
    "# View full household for person of interest\n",
    "census_household_ID = CEN[CEN.puid_cen == '111']['hhid_cen'][0]\n",
    "census_household = CEN[CEN.hhid_cen == census_household_ID][cen_variables]\n",
    "census_household"
   ]
  },
  {
   "cell_type": "markdown",
   "metadata": {},
   "source": [
    "### 8) Other filters that you may want to try in step 6 - just add them to \"conditions_list\" ([c1,c2,c3.....cN])"
   ]
  },
  {
   "cell_type": "code",
   "execution_count": 38,
   "metadata": {},
   "outputs": [
    {
     "data": {
      "text/plain": [
       "0     True\n",
       "1    False\n",
       "2    False\n",
       "3    False\n",
       "4    False\n",
       "Name: first_name_cen, dtype: bool"
      ]
     },
     "execution_count": 38,
     "metadata": {},
     "output_type": "execute_result"
    }
   ],
   "source": [
    "# N-grams e.g. first 2 letters of first name / last 5 letters of last name\n",
    "CEN.first_name_cen.str[0:2] == 'CH'\n",
    "CEN.first_name_cen.str[-5:] == 'ARLIE'"
   ]
  },
  {
   "cell_type": "code",
   "execution_count": 39,
   "metadata": {},
   "outputs": [
    {
     "data": {
      "text/plain": [
       "0    False\n",
       "1    False\n",
       "2    False\n",
       "3    False\n",
       "4     True\n",
       "Name: last_name_cen, dtype: bool"
      ]
     },
     "execution_count": 39,
     "metadata": {},
     "output_type": "execute_result"
    }
   ],
   "source": [
    "# Missing value filter\n",
    "CEN.last_name_cen.isnull()"
   ]
  },
  {
   "cell_type": "code",
   "execution_count": 40,
   "metadata": {},
   "outputs": [
    {
     "data": {
      "text/plain": [
       "0     True\n",
       "1    False\n",
       "2    False\n",
       "3    False\n",
       "4    False\n",
       "Name: first_name_cen, dtype: bool"
      ]
     },
     "execution_count": 40,
     "metadata": {},
     "output_type": "execute_result"
    }
   ],
   "source": [
    "# Filter multiple possible first names\n",
    "CEN.first_name_cen.isin(['CHARLIE', 'CHARLES', 'CHAZ'])"
   ]
  },
  {
   "cell_type": "code",
   "execution_count": 41,
   "metadata": {},
   "outputs": [
    {
     "data": {
      "text/plain": [
       "0     True\n",
       "1    False\n",
       "2    False\n",
       "3    False\n",
       "4    False\n",
       "Name: first_name_cen, dtype: bool"
      ]
     },
     "execution_count": 41,
     "metadata": {},
     "output_type": "execute_result"
    }
   ],
   "source": [
    "# Wildcard - Search for a name and allow for one or more characters where the .+ is\n",
    "# e.g. CHARLIE, CHABLIE, CHARLLE, CHRALIE, CHALRIE, CHAARLIE etc.\n",
    "def wildcard(string):\n",
    "    if re.search('CH.+IE',string): return True\n",
    "    else: return False\n",
    "  \n",
    "# Apply wildcard filter\n",
    "CEN.first_name_cen.apply(wildcard)"
   ]
  },
  {
   "cell_type": "code",
   "execution_count": 42,
   "metadata": {
    "collapsed": true
   },
   "outputs": [],
   "source": [
    "# Other variables you could filter on:    \n",
    "    # Head of Household\n",
    "    # Relationship to Head of Household \n",
    "    # Marital Status\n",
    "    # Different levels of geography e.g. HH, EA, District"
   ]
  },
  {
   "cell_type": "code",
   "execution_count": null,
   "metadata": {
    "collapsed": true
   },
   "outputs": [],
   "source": [
    "  "
   ]
  },
  {
   "cell_type": "code",
   "execution_count": 11,
   "metadata": {
    "collapsed": true
   },
   "outputs": [],
   "source": [
    "PES = pd.DataFrame({'puid_pes': ['111', '222', '333', '444', '555'],\n",
    "                    'hhid_pes': ['11', '11', '11', '22', '22'],\n",
    "                    'names_pes': ['CHARLIE T ', 'STEVE X', 'JOHN P', 'BOB Y', 'PETE'],\n",
    "                    'first_name_pes': ['CHARLIE', 'STEVE', 'JOHN', 'BOB', 'PETE'],\n",
    "                    'last_name_pes': ['T', 'X', 'P', 'Y', None],\n",
    "                    'year_birth_pes': [1993, 1999, 1992, 2000, 1970],\n",
    "                    'birth_month_pes': [7, 8, 1, 12, 6],\n",
    "                    'sex_pes': ['1', '2', '2', '2', '1'],\n",
    "                    'EAid_pes': ['123', '456', '789', '123', '456'],\n",
    "                    'DSid_pes': ['1', '4', '7', '1', '4'],\n",
    "                    'relationship_hh_pes': ['1', '2', '2', '1', '3']})"
   ]
  },
  {
   "cell_type": "code",
   "execution_count": 12,
   "metadata": {
    "collapsed": true
   },
   "outputs": [],
   "source": [
    "CEN = pd.DataFrame({'puid_cen': ['111', '222', '333', '444', '555'],\n",
    "                    'hhid_cen': ['11', '11', '11', '22', '22'],\n",
    "                    'names_cen': ['CHARLIE T ', 'STEVE X', 'JOHN P', 'BOB Y', 'PETE'],\n",
    "                    'first_name_cen': ['CHARLIE', 'STEVE', 'JOHN', 'BOB', 'PETE'],\n",
    "                    'last_name_cen': ['T', 'X', 'P', 'Y', None],\n",
    "                    'year_birth_cen': [1993, 1999, 1992, 2000, 1970],\n",
    "                    'birth_month_cen': [7, 8, 1, 12, 6],\n",
    "                    'sex_cen': ['1', '2', '2', '2', '1'],\n",
    "                    'EAid_cen': ['123', '456', '789', '123', '456'],\n",
    "                    'DSid_cen': ['1', '4', '7', '1', '4'],\n",
    "                    'relationship_hh_cen': ['1', '2', '2', '1', '3']})"
   ]
  },
  {
   "cell_type": "code",
   "execution_count": null,
   "metadata": {
    "collapsed": true
   },
   "outputs": [],
   "source": []
  }
 ],
 "metadata": {
  "kernelspec": {
   "display_name": "Python 3",
   "language": "python",
   "name": "python3"
  },
  "language_info": {
   "codemirror_mode": {
    "name": "ipython",
    "version": 3
   },
   "file_extension": ".py",
   "mimetype": "text/x-python",
   "name": "python",
   "nbconvert_exporter": "python",
   "pygments_lexer": "ipython3",
   "version": "3.6.1"
  }
 },
 "nbformat": 4,
 "nbformat_minor": 2
}
